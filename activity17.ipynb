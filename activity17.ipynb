{
 "cells": [
  {
   "cell_type": "code",
   "execution_count": null,
   "id": "819e6ae6-2d68-4c1b-a706-cdcf64c8ec28",
   "metadata": {},
   "outputs": [
    {
     "ename": "",
     "evalue": "",
     "output_type": "error",
     "traceback": [
      "\u001b[1;31mRunning cells with '/usr/local/bin/python3' requires ipykernel package.\n",
      "\u001b[1;31mRun the following command to install 'ipykernel' into the Python environment. \n",
      "\u001b[1;31mCommand: '/usr/local/bin/python3 -m pip install ipykernel -U --user --force-reinstall'"
     ]
    }
   ],
   "source": [
    "# Damian Lema\n",
    "# Day 17, Intro to python, Monday Jan 30\n",
    "#Example using the print() function\n",
    "print('Damian Lema')\n",
    "print('Example 1')\n",
    "name = 'Peter Pan'\n",
    "number = 353553.66\n",
    "print('My name is: ', name, 'and my lucky number is', number)\n"
   ]
  },
  {
   "cell_type": "code",
   "execution_count": null,
   "id": "7925787a-f49c-4176-b4e0-efc2b283c985",
   "metadata": {},
   "outputs": [
    {
     "ename": "",
     "evalue": "",
     "output_type": "error",
     "traceback": [
      "\u001b[1;31mRunning cells with '/usr/local/bin/python3' requires ipykernel package.\n",
      "\u001b[1;31mRun the following command to install 'ipykernel' into the Python environment. \n",
      "\u001b[1;31mCommand: '/usr/local/bin/python3 -m pip install ipykernel -U --user --force-reinstall'"
     ]
    }
   ],
   "source": [
    "#example using input function\n",
    "print('-----example 2-------')\n",
    "lastName = ('Enter a last name')\n",
    "numl = int(input('Enter a number: '))\n",
    "print('Last name = ', lastName, '\\n Enter a number = ', numl, '\\n The double of the number is =', numl*2)\n",
    "           \n"
   ]
  },
  {
   "cell_type": "code",
   "execution_count": null,
   "id": "af425958-ad72-416b-b1e5-0c613c31b42c",
   "metadata": {},
   "outputs": [
    {
     "ename": "",
     "evalue": "",
     "output_type": "error",
     "traceback": [
      "\u001b[1;31mRunning cells with '/usr/local/bin/python3' requires ipykernel package.\n",
      "\u001b[1;31mRun the following command to install 'ipykernel' into the Python environment. \n",
      "\u001b[1;31mCommand: '/usr/local/bin/python3 -m pip install ipykernel -U --user --force-reinstall'"
     ]
    }
   ],
   "source": [
    "print('--------Example 3-------')\n",
    "h = float(input('Enter height: '))\n",
    "w = float(input('Enter the width: '))\n",
    "hyp = (h**2+w**2)**0.5\n",
    "print('the hypotenuse = ',hyp)\n"
   ]
  },
  {
   "cell_type": "code",
   "execution_count": null,
   "id": "19ecae8d-ab96-4286-8997-256d79148f9e",
   "metadata": {},
   "outputs": [
    {
     "ename": "",
     "evalue": "",
     "output_type": "error",
     "traceback": [
      "\u001b[1;31mRunning cells with '/usr/local/bin/python3' requires ipykernel package.\n",
      "\u001b[1;31mRun the following command to install 'ipykernel' into the Python environment. \n",
      "\u001b[1;31mCommand: '/usr/local/bin/python3 -m pip install ipykernel -U --user --force-reinstall'"
     ]
    }
   ],
   "source": [
    "# write a code that will ask the user to enter a raduis and a height from keyboard => input()\n",
    "# once values are collected calculate the are of the circle, the circurference and volume of sphere\n",
    "# to calculate area = 3.1416*radius**2\n",
    "#to calculate the circunference = 2*3.1416*radius\n",
    "# volume = area * height\n",
    "print('-------Class Activity-------')\n",
    "radius = float(input('Please enter radius:'))\n",
    "height = float(input('Please enter height:'))\n",
    "area = 3.1416*radius**2\n",
    "circumference = 2*2.1416*radius\n",
    "volume = area * height\n",
    "print('The are is: ', area, '\\nThe circumference is: ', circumference, '\\nThe volume is: ', volume)\n"
   ]
  },
  {
   "cell_type": "code",
   "execution_count": null,
   "id": "2519e4a5-6f7e-43fb-bacd-a6d8faf84746",
   "metadata": {},
   "outputs": [
    {
     "ename": "",
     "evalue": "",
     "output_type": "error",
     "traceback": [
      "\u001b[1;31mRunning cells with '/usr/local/bin/python3' requires ipykernel package.\n",
      "\u001b[1;31mRun the following command to install 'ipykernel' into the Python environment. \n",
      "\u001b[1;31mCommand: '/usr/local/bin/python3 -m pip install ipykernel -U --user --force-reinstall'"
     ]
    }
   ],
   "source": [
    "print('-------Example 4-------')\n",
    "#number1;\n",
    "#assign a vlaue\n",
    "number1 = 8\n",
    "print('Number = ',number1)\n",
    "#self add +=\n",
    "number1 += 3\n",
    "print('Self add =', number1)\n",
    "#self substraction -=\n",
    "number1 -= 5\n",
    "print('Self substract =', number1)\n",
    "number1 %= 4\n",
    "print('Remainder after division =', number1)\n",
    "#using $s market on print()\n",
    "print('The height = %s and width = %s. The calculation for the hypotenuse is %s' %(h,w,hyp))\n",
    "\n"
   ]
  },
  {
   "cell_type": "code",
   "execution_count": null,
   "id": "242cbbef-ec34-4a97-aa11-cec43c9dfc6b",
   "metadata": {},
   "outputs": [
    {
     "ename": "",
     "evalue": "",
     "output_type": "error",
     "traceback": [
      "\u001b[1;31mRunning cells with '/usr/local/bin/python3' requires ipykernel package.\n",
      "\u001b[1;31mRun the following command to install 'ipykernel' into the Python environment. \n",
      "\u001b[1;31mCommand: '/usr/local/bin/python3 -m pip install ipykernel -U --user --force-reinstall'"
     ]
    }
   ],
   "source": [
    "print('-------Example 5---------')\n",
    "#find a character in a string using index\n",
    "msg = 'Queensborough'\n",
    "#print the 3rd and 7th character in a string msg\n",
    "print('The 3rd character is =', msg[2])\n",
    "print('The 7th character is =', msg[6])\n",
    "#slice in string\n",
    "print('From the 5th to the 10th character: ', msg[4:9])\n",
    "lenmsg = len(msg)\n",
    "print('The lenght is = ',lenmsg)\n",
    "# upper method\n",
    "msgUpper = msg.upper()\n",
    "print(msgUpper)\n",
    "# replace () method\n",
    "msgReplace = msg.replace('e','$')\n",
    "print(msgReplace)\n",
    "msgIn = 'o' in msg\n",
    "print('Is m in the messege?', msgIn)"
   ]
  },
  {
   "cell_type": "code",
   "execution_count": null,
   "id": "e4843f07-6f64-405c-b1e9-ec7091586e92",
   "metadata": {},
   "outputs": [
    {
     "ename": "",
     "evalue": "",
     "output_type": "error",
     "traceback": [
      "\u001b[1;31mRunning cells with '/usr/local/bin/python3' requires ipykernel package.\n",
      "\u001b[1;31mRun the following command to install 'ipykernel' into the Python environment. \n",
      "\u001b[1;31mCommand: '/usr/local/bin/python3 -m pip install ipykernel -U --user --force-reinstall'"
     ]
    }
   ],
   "source": [
    "print('-------Example 6---------')\n",
    "# create list of animals\n",
    "animals = ['lion','tiger', 'pinguin', 'dog', 'owl']\n",
    "print('4th animal = ', animals[4])\n",
    "#delete 2nd animal in the list\n",
    "del animals[1]\n",
    "print(animals)\n",
    "# ask user to input an animals name, The new animal will be added to the existing list\n",
    "a = input(\"Enter a animal's name: \")\n",
    "animals.append(a)\n",
    "print(animals)"
   ]
  },
  {
   "cell_type": "code",
   "execution_count": null,
   "id": "15a888c9-8841-403a-a662-932df1649c65",
   "metadata": {},
   "outputs": [
    {
     "ename": "",
     "evalue": "",
     "output_type": "error",
     "traceback": [
      "\u001b[1;31mRunning cells with '/usr/local/bin/python3' requires ipykernel package.\n",
      "\u001b[1;31mRun the following command to install 'ipykernel' into the Python environment. \n",
      "\u001b[1;31mCommand: '/usr/local/bin/python3 -m pip install ipykernel -U --user --force-reinstall'"
     ]
    }
   ],
   "source": []
  }
 ],
 "metadata": {
  "kernelspec": {
   "display_name": "Python 3",
   "language": "python",
   "name": "python3"
  },
  "language_info": {
   "codemirror_mode": {
    "name": "ipython",
    "version": 3
   },
   "file_extension": ".py",
   "mimetype": "text/x-python",
   "name": "python",
   "nbconvert_exporter": "python",
   "pygments_lexer": "ipython3",
   "version": "3.11.1 (v3.11.1:a7a450f84a, Dec  6 2022, 15:24:06) [Clang 13.0.0 (clang-1300.0.29.30)]"
  },
  "vscode": {
   "interpreter": {
    "hash": "aee8b7b246df8f9039afb4144a1f6fd8d2ca17a180786b69acc140d282b71a49"
   }
  }
 },
 "nbformat": 4,
 "nbformat_minor": 5
}
